{
 "cells": [
  {
   "cell_type": "code",
   "execution_count": 2,
   "metadata": {},
   "outputs": [],
   "source": [
    "import pandas as pd\n",
    "import gmaps\n",
    "import matplotlib.pyplot as plt\n",
    "from citipy import citipy\n",
    "import requests\n",
    "import json\n",
    "import matplotlib.pyplot as plt\n",
    "# Google developer API key\n",
    "from config import gkey\n",
    "\n",
    "# Configure gmaps\n",
    "gmaps.configure(api_key=gkey)"
   ]
  },
  {
   "cell_type": "code",
   "execution_count": 3,
   "metadata": {},
   "outputs": [
    {
     "data": {
      "text/html": [
       "<div>\n",
       "<style scoped>\n",
       "    .dataframe tbody tr th:only-of-type {\n",
       "        vertical-align: middle;\n",
       "    }\n",
       "\n",
       "    .dataframe tbody tr th {\n",
       "        vertical-align: top;\n",
       "    }\n",
       "\n",
       "    .dataframe thead th {\n",
       "        text-align: right;\n",
       "    }\n",
       "</style>\n",
       "<table border=\"1\" class=\"dataframe\">\n",
       "  <thead>\n",
       "    <tr style=\"text-align: right;\">\n",
       "      <th></th>\n",
       "      <th>Unnamed: 0</th>\n",
       "      <th>city</th>\n",
       "      <th>latitude</th>\n",
       "      <th>lontitude</th>\n",
       "      <th>wind speed</th>\n",
       "      <th>cloudness</th>\n",
       "      <th>humidity</th>\n",
       "      <th>temp</th>\n",
       "    </tr>\n",
       "  </thead>\n",
       "  <tbody>\n",
       "    <tr>\n",
       "      <td>0</td>\n",
       "      <td>0</td>\n",
       "      <td>atuona</td>\n",
       "      <td>-9.80</td>\n",
       "      <td>-139.03</td>\n",
       "      <td>16.15</td>\n",
       "      <td>0</td>\n",
       "      <td>74</td>\n",
       "      <td>81.81</td>\n",
       "    </tr>\n",
       "    <tr>\n",
       "      <td>1</td>\n",
       "      <td>1</td>\n",
       "      <td>mumbwa</td>\n",
       "      <td>-14.98</td>\n",
       "      <td>27.06</td>\n",
       "      <td>4.74</td>\n",
       "      <td>42</td>\n",
       "      <td>97</td>\n",
       "      <td>62.02</td>\n",
       "    </tr>\n",
       "    <tr>\n",
       "      <td>2</td>\n",
       "      <td>2</td>\n",
       "      <td>jatiroto</td>\n",
       "      <td>-7.88</td>\n",
       "      <td>111.12</td>\n",
       "      <td>2.10</td>\n",
       "      <td>40</td>\n",
       "      <td>94</td>\n",
       "      <td>78.80</td>\n",
       "    </tr>\n",
       "    <tr>\n",
       "      <td>3</td>\n",
       "      <td>3</td>\n",
       "      <td>butaritari</td>\n",
       "      <td>3.07</td>\n",
       "      <td>172.79</td>\n",
       "      <td>14.27</td>\n",
       "      <td>100</td>\n",
       "      <td>74</td>\n",
       "      <td>82.94</td>\n",
       "    </tr>\n",
       "    <tr>\n",
       "      <td>4</td>\n",
       "      <td>4</td>\n",
       "      <td>cidreira</td>\n",
       "      <td>-30.18</td>\n",
       "      <td>-50.21</td>\n",
       "      <td>22.35</td>\n",
       "      <td>96</td>\n",
       "      <td>82</td>\n",
       "      <td>75.27</td>\n",
       "    </tr>\n",
       "    <tr>\n",
       "      <td>...</td>\n",
       "      <td>...</td>\n",
       "      <td>...</td>\n",
       "      <td>...</td>\n",
       "      <td>...</td>\n",
       "      <td>...</td>\n",
       "      <td>...</td>\n",
       "      <td>...</td>\n",
       "      <td>...</td>\n",
       "    </tr>\n",
       "    <tr>\n",
       "      <td>496</td>\n",
       "      <td>496</td>\n",
       "      <td>laem sing</td>\n",
       "      <td>12.48</td>\n",
       "      <td>102.07</td>\n",
       "      <td>2.24</td>\n",
       "      <td>0</td>\n",
       "      <td>94</td>\n",
       "      <td>77.58</td>\n",
       "    </tr>\n",
       "    <tr>\n",
       "      <td>497</td>\n",
       "      <td>497</td>\n",
       "      <td>gaogou</td>\n",
       "      <td>34.02</td>\n",
       "      <td>119.19</td>\n",
       "      <td>9.40</td>\n",
       "      <td>23</td>\n",
       "      <td>44</td>\n",
       "      <td>42.57</td>\n",
       "    </tr>\n",
       "    <tr>\n",
       "      <td>498</td>\n",
       "      <td>498</td>\n",
       "      <td>kamuli</td>\n",
       "      <td>0.95</td>\n",
       "      <td>33.12</td>\n",
       "      <td>0.76</td>\n",
       "      <td>79</td>\n",
       "      <td>91</td>\n",
       "      <td>64.33</td>\n",
       "    </tr>\n",
       "    <tr>\n",
       "      <td>499</td>\n",
       "      <td>499</td>\n",
       "      <td>pimentel</td>\n",
       "      <td>-6.84</td>\n",
       "      <td>-79.93</td>\n",
       "      <td>20.80</td>\n",
       "      <td>75</td>\n",
       "      <td>29</td>\n",
       "      <td>66.20</td>\n",
       "    </tr>\n",
       "    <tr>\n",
       "      <td>500</td>\n",
       "      <td>500</td>\n",
       "      <td>kandi</td>\n",
       "      <td>11.13</td>\n",
       "      <td>2.94</td>\n",
       "      <td>4.23</td>\n",
       "      <td>38</td>\n",
       "      <td>15</td>\n",
       "      <td>61.52</td>\n",
       "    </tr>\n",
       "  </tbody>\n",
       "</table>\n",
       "<p>501 rows × 8 columns</p>\n",
       "</div>"
      ],
      "text/plain": [
       "     Unnamed: 0        city  latitude  lontitude  wind speed  cloudness  \\\n",
       "0             0      atuona     -9.80    -139.03       16.15          0   \n",
       "1             1      mumbwa    -14.98      27.06        4.74         42   \n",
       "2             2    jatiroto     -7.88     111.12        2.10         40   \n",
       "3             3  butaritari      3.07     172.79       14.27        100   \n",
       "4             4    cidreira    -30.18     -50.21       22.35         96   \n",
       "..          ...         ...       ...        ...         ...        ...   \n",
       "496         496   laem sing     12.48     102.07        2.24          0   \n",
       "497         497      gaogou     34.02     119.19        9.40         23   \n",
       "498         498      kamuli      0.95      33.12        0.76         79   \n",
       "499         499    pimentel     -6.84     -79.93       20.80         75   \n",
       "500         500       kandi     11.13       2.94        4.23         38   \n",
       "\n",
       "     humidity   temp  \n",
       "0          74  81.81  \n",
       "1          97  62.02  \n",
       "2          94  78.80  \n",
       "3          74  82.94  \n",
       "4          82  75.27  \n",
       "..        ...    ...  \n",
       "496        94  77.58  \n",
       "497        44  42.57  \n",
       "498        91  64.33  \n",
       "499        29  66.20  \n",
       "500        15  61.52  \n",
       "\n",
       "[501 rows x 8 columns]"
      ]
     },
     "execution_count": 3,
     "metadata": {},
     "output_type": "execute_result"
    }
   ],
   "source": [
    "df = pd.read_csv(\"weather.csv\")\n",
    "df"
   ]
  },
  {
   "cell_type": "code",
   "execution_count": 4,
   "metadata": {},
   "outputs": [
    {
     "data": {
      "application/vnd.jupyter.widget-view+json": {
       "model_id": "c8da0dcc5e0e4324ad6f6d9a08064f03",
       "version_major": 2,
       "version_minor": 0
      },
      "text/plain": [
       "Figure(layout=FigureLayout(height='420px'))"
      ]
     },
     "metadata": {},
     "output_type": "display_data"
    }
   ],
   "source": [
    "# Store latitude and longitude in locations\n",
    "locations = df[[\"latitude\", \"lontitude\"]]\n",
    "\n",
    "# Fill NaN values and convert to float\n",
    "rating = df[\"humidity\"].astype(float)\n",
    "\n",
    "# Plot Heatmap\n",
    "fig = gmaps.figure(center=(0, 0), zoom_level=1.25)\n",
    "# Create heat layer\n",
    "heat_layer = gmaps.heatmap_layer(locations, weights=rating, \n",
    "                                 dissipating=False, max_intensity=max(rating),\n",
    "                                 point_radius=2)\n",
    "\n",
    "\n",
    "# Add layer\n",
    "fig.add_layer(heat_layer)\n",
    "\n",
    "fig"
   ]
  },
  {
   "cell_type": "code",
   "execution_count": 5,
   "metadata": {},
   "outputs": [],
   "source": [
    "narrowed_city_df = df.loc[(df[\"temp\"]>=70) & (df[\"temp\"]<80) &(df[\"wind speed\"]<=10)&(df[\"cloudness\"]==0)].reset_index()"
   ]
  },
  {
   "cell_type": "code",
   "execution_count": 6,
   "metadata": {},
   "outputs": [],
   "source": [
    "params = {\n",
    "    \"radius\": 5000,\n",
    "    \"keyword\": \"hotel\",\n",
    "    \"key\": gkey\n",
    "}\n",
    "\n",
    "hotel=[]\n",
    "hotel_city=[]\n",
    "hotel_country=[]\n",
    "hotel_lat=[]\n",
    "hotel_lng=[]\n",
    "for index, row in narrowed_city_df.iterrows():\n",
    "    lat = narrowed_city_df[\"latitude\"]\n",
    "    lng = narrowed_city_df[\"lontitude\"]\n",
    "    \n",
    "    params[\"location\"] = f\"{lat[index]},{lng[index]}\"\n",
    "\n",
    "    base_url = \"https://maps.googleapis.com/maps/api/place/nearbysearch/json\"\n",
    "    try:\n",
    "        name_address = requests.get(base_url, params=params)\n",
    "        name_address = name_address.json()\n",
    "        hotel.append(name_address[\"results\"][0][\"name\"])\n",
    "        hotel_lat.append(name_address[\"results\"][0][\"geometry\"][\"location\"][\"lat\"])\n",
    "        hotel_lng.append(name_address[\"results\"][0][\"geometry\"][\"location\"][\"lng\"])\n",
    "        city = citipy.nearest_city(name_address[\"results\"][0][\"geometry\"][\"location\"][\"lat\"],name_address[\"results\"][0][\"geometry\"][\"location\"][\"lng\"])\n",
    "\n",
    "        hotel_country.append(city.country_code)\n",
    "        hotel_city.append(city.city_name)\n",
    "\n",
    "    except:\n",
    "        pass"
   ]
  },
  {
   "cell_type": "code",
   "execution_count": 7,
   "metadata": {},
   "outputs": [],
   "source": [
    "hotel_df = pd.DataFrame({\"hotel\":hotel\n",
    "                         ,\"hotel_country\":hotel_country\n",
    "                         ,\"hotel_city\":hotel_city\n",
    "                         ,\"hotel_lat\":hotel_lat\n",
    "                        ,\"hotel_lng\":hotel_lng})"
   ]
  },
  {
   "cell_type": "code",
   "execution_count": 8,
   "metadata": {},
   "outputs": [],
   "source": [
    "\n",
    "# Using the template add the hotel marks to the heatmap\n",
    "info_box_template = \"\"\"\n",
    "<dl>\n",
    "<dt>Name</dt><dd>{hotel}</dd>\n",
    "<dt>City</dt><dd>{hotel_city}</dd>\n",
    "<dt>Country</dt><dd>{hotel_country}</dd>\n",
    "</dl>\n",
    "\"\"\"\n",
    "# Store the DataFrame Row\n",
    "# NOTE: be sure to update with your DataFrame name\n",
    "hotel_info = [info_box_template.format(**row) for index, row in hotel_df.iterrows()]\n",
    "locations = hotel_df[[\"hotel_lat\", \"hotel_lng\"]]"
   ]
  },
  {
   "cell_type": "code",
   "execution_count": 11,
   "metadata": {},
   "outputs": [
    {
     "data": {
      "application/vnd.jupyter.widget-view+json": {
       "model_id": "c90b2b80bf394008aff163b2513f4ec9",
       "version_major": 2,
       "version_minor": 0
      },
      "text/plain": [
       "Figure(layout=FigureLayout(height='420px'))"
      ]
     },
     "metadata": {},
     "output_type": "display_data"
    },
    {
     "data": {
      "text/plain": [
       "<Figure size 432x288 with 0 Axes>"
      ]
     },
     "metadata": {},
     "output_type": "display_data"
    }
   ],
   "source": [
    "\n",
    "# Create a marker_layer using the poverty list to fill the info box\n",
    "fig = gmaps.figure(center=(0, 0), zoom_level=1.25)\n",
    "markers = gmaps.marker_layer(locations,info_box_content=hotel_info)\n",
    "fig.add_layer(markers)\n",
    "fig.add_layer(heat_layer)\n",
    "plt.savefig(\"heatmap.png\")\n",
    "fig"
   ]
  },
  {
   "cell_type": "code",
   "execution_count": null,
   "metadata": {},
   "outputs": [],
   "source": []
  }
 ],
 "metadata": {
  "kernelspec": {
   "display_name": "Python 3",
   "language": "python",
   "name": "python3"
  },
  "language_info": {
   "codemirror_mode": {
    "name": "ipython",
    "version": 3
   },
   "file_extension": ".py",
   "mimetype": "text/x-python",
   "name": "python",
   "nbconvert_exporter": "python",
   "pygments_lexer": "ipython3",
   "version": "3.7.4"
  }
 },
 "nbformat": 4,
 "nbformat_minor": 2
}
